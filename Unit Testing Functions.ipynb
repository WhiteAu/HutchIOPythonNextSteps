{
 "cells": [
  {
   "cell_type": "markdown",
   "metadata": {},
   "source": [
    "# Unit Testing: DocTests"
   ]
  },
  {
   "cell_type": "markdown",
   "metadata": {},
   "source": [
    "We like Doc Tests because they are large return for little effort. "
   ]
  },
  {
   "cell_type": "code",
   "execution_count": 12,
   "metadata": {
    "collapsed": false
   },
   "outputs": [],
   "source": [
    "import doctest\n",
    "import math"
   ]
  },
  {
   "cell_type": "code",
   "execution_count": 13,
   "metadata": {
    "collapsed": false
   },
   "outputs": [],
   "source": [
    "def add_to_a_list(x, y=[]):\n",
    "    \"\"\"\n",
    "    This is our toy function from the class on functions that we noted had some bugs.\n",
    "    param x: the item to append to our list\n",
    "    optional y: the list to add to, or return a list of [x] if not passed in\n",
    "    \n",
    "    return: x appended to y\n",
    "    \n",
    "    >>> x = 2\n",
    "    >>> list = [1]\n",
    "    >>> add_to_a_list(x, list)\n",
    "    [1, 2]\n",
    "    \"\"\"\n",
    "    y.append(x)\n",
    "    return y\n",
    "\n",
    "\n",
    "doctest.run_docstring_examples(add_to_a_list, globals())"
   ]
  },
  {
   "cell_type": "code",
   "execution_count": 14,
   "metadata": {
    "collapsed": true
   },
   "outputs": [],
   "source": [
    "def _is_prime(number):\n",
    "    '''\n",
    "    :param number: the number to test\n",
    "    :return: True if Prime(number) False otherwise\n",
    "\n",
    "    >>> _is_prime(0)\n",
    "    False\n",
    "    >>> _is_prime(-1)\n",
    "    False\n",
    "    >>> _is_prime(1)\n",
    "    False\n",
    "    >>> _is_prime(2)\n",
    "    True\n",
    "    '''\n",
    "    if number > 1:\n",
    "        if number == 2:\n",
    "            return True\n",
    "        if number % 2 == 0:\n",
    "            return False\n",
    "        for current in range(3, int(math.sqrt(number) + 1), 2):\n",
    "            if number % current == 0:\n",
    "                return False\n",
    "        return True\n",
    "    return False\n",
    "\n",
    "doctest.run_docstring_examples(_is_prime, globals())"
   ]
  },
  {
   "cell_type": "code",
   "execution_count": 15,
   "metadata": {
    "collapsed": false
   },
   "outputs": [],
   "source": [
    "\n",
    "def get_primes(number):\n",
    "    '''\n",
    "    a generator to return primes starting with the given number\n",
    "    :param number: the number to begin generating primes from\n",
    "    :return: the next prime\n",
    "\n",
    "    >>> #We can make any assigments that we could in a normal python interactive session for a doctest!\n",
    "    >>> gen = get_primes(1)\n",
    "    >>> next(gen)\n",
    "    2\n",
    "    >>> gen = get_primes(2)\n",
    "    >>> next(gen)\n",
    "    2\n",
    "    >>> gen = get_primes(4)\n",
    "    >>> next(gen)\n",
    "    5\n",
    "    >>> next(gen)\n",
    "    7\n",
    "    '''\n",
    "    while True:\n",
    "        if _is_prime(number):\n",
    "            yield number\n",
    "        number += 1\n",
    "        \n",
    "doctest.run_docstring_examples(get_primes, globals())"
   ]
  },
  {
   "cell_type": "code",
   "execution_count": null,
   "metadata": {
    "collapsed": true
   },
   "outputs": [],
   "source": []
  }
 ],
 "metadata": {
  "kernelspec": {
   "display_name": "Python 3",
   "language": "python",
   "name": "python3"
  },
  "language_info": {
   "codemirror_mode": {
    "name": "ipython",
    "version": 3
   },
   "file_extension": ".py",
   "mimetype": "text/x-python",
   "name": "python",
   "nbconvert_exporter": "python",
   "pygments_lexer": "ipython3",
   "version": "3.6.0"
  }
 },
 "nbformat": 4,
 "nbformat_minor": 2
}
