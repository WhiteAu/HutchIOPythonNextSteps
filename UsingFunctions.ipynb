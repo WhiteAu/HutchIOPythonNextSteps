{
 "cells": [
  {
   "cell_type": "markdown",
   "metadata": {
    "collapsed": true
   },
   "source": [
    "A quick thing about modules and packages: they are what we use to form 'import' statements.\n",
    "Essentially it's a fancy python way to arrange our python code in files and directories, and have it be importable "
   ]
  },
  {
   "cell_type": "code",
   "execution_count": null,
   "metadata": {
    "collapsed": false
   },
   "outputs": [],
   "source": [
    "#we are importing the MODULE function_defs from the PACKAGE hutchio.functions, \n",
    "#corresponding to our code's directory topology\n",
    "import hutchio.functions.functiondefs as f"
   ]
  },
  {
   "cell_type": "markdown",
   "metadata": {},
   "source": [
    "## Optional Parameters"
   ]
  },
  {
   "cell_type": "code",
   "execution_count": null,
   "metadata": {
    "collapsed": false
   },
   "outputs": [],
   "source": [
    "x = 5\n",
    "\n",
    "print(f.optional_params(x))\n",
    "print(f.optional_params(x, y = 1))\n",
    "\n"
   ]
  },
  {
   "cell_type": "markdown",
   "metadata": {},
   "source": [
    "There are some things to keep in mind with parameters corresponding to\n",
    "PASS BY REFERENCE versus PASS BY VALUE\n",
    "in python"
   ]
  },
  {
   "cell_type": "code",
   "execution_count": null,
   "metadata": {
    "collapsed": false
   },
   "outputs": [],
   "source": [
    "x = 5\n",
    "\n",
    "print(f.optional_params_pitfalls(x))\n",
    "print(f.optional_params_pitfalls(x))\n",
    "\n",
    "print(f.optional_params_pitfalls_alternate(x))\n",
    "print(f.optional_params_pitfalls_alternate(x))"
   ]
  },
  {
   "cell_type": "markdown",
   "metadata": {},
   "source": [
    "## Variable length parameter lists (*args)"
   ]
  },
  {
   "cell_type": "code",
   "execution_count": null,
   "metadata": {
    "collapsed": false
   },
   "outputs": [],
   "source": [
    "x = 1\n",
    "y = 2\n",
    "z = 3\n",
    "f.using_args(x, y, z)"
   ]
  },
  {
   "cell_type": "markdown",
   "metadata": {},
   "source": [
    "## Keyword Arguments (**kwargs)"
   ]
  },
  {
   "cell_type": "code",
   "execution_count": null,
   "metadata": {
    "collapsed": false
   },
   "outputs": [],
   "source": [
    "hello = \"Annie\"\n",
    "goodbye = \"Bob\"\n",
    "f.using_kwargs(hello=hello, goodbye=goodbye)"
   ]
  },
  {
   "cell_type": "markdown",
   "metadata": {},
   "source": [
    "## Lambda Functions"
   ]
  },
  {
   "cell_type": "markdown",
   "metadata": {},
   "source": [
    "lambdas are anonymous (no formal 'def' statement) functions that allow for a quick function to be declared and called in place."
   ]
  },
  {
   "cell_type": "code",
   "execution_count": null,
   "metadata": {
    "collapsed": false
   },
   "outputs": [],
   "source": [
    "our_list = [1,2,3]\n",
    "#functions are assignable\n",
    "squared = lambda x: x**2\n",
    "print([squared(x) for x in our_list])\n",
    "\n",
    "#lambdas can be declared and invoked in place!\n",
    "print(list(map(lambda x: x**3, our_list)))\n"
   ]
  },
  {
   "cell_type": "markdown",
   "metadata": {},
   "source": [
    "## Generators"
   ]
  },
  {
   "cell_type": "code",
   "execution_count": null,
   "metadata": {
    "collapsed": false
   },
   "outputs": [],
   "source": [
    "prime_generator = f.get_primes(1)\n",
    "for i in range(10):\n",
    "    print(next(prime_generator))"
   ]
  },
  {
   "cell_type": "code",
   "execution_count": null,
   "metadata": {
    "collapsed": true
   },
   "outputs": [],
   "source": []
  }
 ],
 "metadata": {
  "kernelspec": {
   "display_name": "Python 3",
   "language": "python",
   "name": "python3"
  },
  "language_info": {
   "codemirror_mode": {
    "name": "ipython",
    "version": 3
   },
   "file_extension": ".py",
   "mimetype": "text/x-python",
   "name": "python",
   "nbconvert_exporter": "python",
   "pygments_lexer": "ipython3",
   "version": "3.6.0"
  }
 },
 "nbformat": 4,
 "nbformat_minor": 0
}
