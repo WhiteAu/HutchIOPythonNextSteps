{
 "cells": [
  {
   "cell_type": "markdown",
   "metadata": {
    "collapsed": true
   },
   "source": [
    "A quick thing about modules and packages: they are what we use to form 'import' statements.\n",
    "Essentially it's a fancy python way to arrange our python code in files and directories, and have it be importable "
   ]
  },
  {
   "cell_type": "code",
   "execution_count": null,
   "metadata": {
    "collapsed": false
   },
   "outputs": [],
   "source": [
    "#we are importing the MODULE function_defs from the PACKAGE hutchio.functions, \n",
    "#corresponding to our code's directory topology\n",
    "import hutchio.functions.functiondefs as f"
   ]
  },
  {
   "cell_type": "code",
   "execution_count": null,
   "metadata": {
    "collapsed": false
   },
   "outputs": [],
   "source": [
    "my_list = []\n",
    "for i in range(10):\n",
    "    my_list.append(i)\n",
    "print(my_list)"
   ]
  },
  {
   "cell_type": "code",
   "execution_count": null,
   "metadata": {
    "collapsed": false
   },
   "outputs": [],
   "source": [
    "my_list = [i for i in range(10)]\n",
    "print(my_list)"
   ]
  },
  {
   "cell_type": "markdown",
   "metadata": {},
   "source": [
    "## Optional Parameters"
   ]
  },
  {
   "cell_type": "code",
   "execution_count": null,
   "metadata": {
    "collapsed": false
   },
   "outputs": [],
   "source": [
    "def our_adding_function(number_one, number_two, should_we_print=False):\n",
    "    val = number_one + number_two\n",
    "    if should_we_print is True:\n",
    "        print(val)\n",
    "    return val\n",
    "our_adding_function(1, 2, should_we_print=True)\n"
   ]
  },
  {
   "cell_type": "code",
   "execution_count": null,
   "metadata": {
    "collapsed": false
   },
   "outputs": [],
   "source": [
    "x = 5\n",
    "\n",
    "print(f.optional_params(x))\n",
    "print(f.optional_params(x, y = 1))\n",
    "print(f.optional_params(\"another duck\", y = \"a duck\"))"
   ]
  },
  {
   "cell_type": "markdown",
   "metadata": {},
   "source": [
    "There are some things to keep in mind with parameters corresponding to\n",
    "PASS BY REFERENCE versus PASS BY VALUE\n",
    "in python"
   ]
  },
  {
   "cell_type": "code",
   "execution_count": null,
   "metadata": {
    "collapsed": false
   },
   "outputs": [],
   "source": [
    "x = 5\n",
    "\n",
    "print(f.optional_params_pitfalls(x, y = [1]))\n",
    "print(f.optional_params_pitfalls(x))\n",
    "\n",
    "print(f.optional_params_pitfalls_alternate(x))\n",
    "print(f.optional_params_pitfalls_alternate(x))"
   ]
  },
  {
   "cell_type": "markdown",
   "metadata": {},
   "source": [
    "## Variable length parameter lists (*args)"
   ]
  },
  {
   "cell_type": "code",
   "execution_count": null,
   "metadata": {
    "collapsed": false
   },
   "outputs": [],
   "source": [
    "x = 1\n",
    "y = 2\n",
    "z = 3\n",
    "f.using_args(x, y, z, 4, 5, 6, 7)"
   ]
  },
  {
   "cell_type": "markdown",
   "metadata": {},
   "source": [
    "## Keyword Arguments (**kwargs)"
   ]
  },
  {
   "cell_type": "code",
   "execution_count": null,
   "metadata": {
    "collapsed": false
   },
   "outputs": [],
   "source": [
    "hello = \"Annie\"\n",
    "goodbye = \"Bob\"\n",
    "f.using_kwargs(hello=hello, tango=\"Shall we dance?\", key=[1,2,3])"
   ]
  },
  {
   "cell_type": "code",
   "execution_count": null,
   "metadata": {
    "collapsed": false
   },
   "outputs": [],
   "source": []
  },
  {
   "cell_type": "markdown",
   "metadata": {},
   "source": [
    "## Lambda Functions"
   ]
  },
  {
   "cell_type": "markdown",
   "metadata": {},
   "source": [
    "lambdas are anonymous (no formal 'def' statement) functions that allow for a quick function to be declared and called in place."
   ]
  },
  {
   "cell_type": "code",
   "execution_count": null,
   "metadata": {
    "collapsed": false
   },
   "outputs": [],
   "source": [
    "def squared_fn(x):\n",
    "    # x**2 is the notation for x^2\n",
    "    return x*x\n",
    "new_list = []\n",
    "our_list = [1,2,3]\n",
    "for i in our_list:\n",
    "    new_list.append(squared_fn(i))\n",
    "print(new_list)\n",
    "\n",
    "#functions are assignable\n",
    "squared = lambda x: x**2\n",
    "print([squared(x) for x in our_list])\n",
    "\n",
    "#lambdas can be declared and invoked in place!\n",
    "print(list(map(lambda x: x**3, our_list)))\n",
    "\n",
    "\n"
   ]
  },
  {
   "cell_type": "code",
   "execution_count": null,
   "metadata": {
    "collapsed": false
   },
   "outputs": [],
   "source": [
    "def run_it(x, fn):\n",
    "    return fn(x)\n",
    "\n",
    "cats = 2\n",
    "dogs = lambda x:x**4\n",
    "run_it(5, lambda x: [print(i) for i in range(x)])"
   ]
  },
  {
   "cell_type": "markdown",
   "metadata": {},
   "source": [
    "## Generators"
   ]
  },
  {
   "cell_type": "code",
   "execution_count": null,
   "metadata": {
    "collapsed": false
   },
   "outputs": [],
   "source": [
    "prime_generator = f.get_primes(5)\n",
    "for i in range(10):\n",
    "    print(next(prime_generator))\n",
    "for prime in f.get_primes(1):\n",
    "    if prime > 100:\n",
    "        break\n",
    "    print(prime)\n",
    "    "
   ]
  },
  {
   "cell_type": "code",
   "execution_count": null,
   "metadata": {
    "collapsed": true
   },
   "outputs": [],
   "source": []
  }
 ],
 "metadata": {
  "kernelspec": {
   "display_name": "Python 3",
   "language": "python",
   "name": "python3"
  },
  "language_info": {
   "codemirror_mode": {
    "name": "ipython",
    "version": 3
   },
   "file_extension": ".py",
   "mimetype": "text/x-python",
   "name": "python",
   "nbconvert_exporter": "python",
   "pygments_lexer": "ipython3",
   "version": "3.6.0"
  }
 },
 "nbformat": 4,
 "nbformat_minor": 0
}
